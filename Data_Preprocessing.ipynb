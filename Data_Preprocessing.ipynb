{
  "nbformat": 4,
  "nbformat_minor": 0,
  "metadata": {
    "colab": {
      "name": "Data Preprocessing.ipynb",
      "provenance": [],
      "collapsed_sections": [],
      "include_colab_link": true
    },
    "kernelspec": {
      "name": "python3",
      "display_name": "Python 3"
    },
    "language_info": {
      "name": "python"
    }
  },
  "cells": [
    {
      "cell_type": "markdown",
      "metadata": {
        "id": "view-in-github",
        "colab_type": "text"
      },
      "source": [
        "<a href=\"https://colab.research.google.com/github/Ahmed-Ashraf-Marzouk/data-mining-algorithms/blob/main/Data_Preprocessing.ipynb\" target=\"_parent\"><img src=\"https://colab.research.google.com/assets/colab-badge.svg\" alt=\"Open In Colab\"/></a>"
      ]
    },
    {
      "cell_type": "markdown",
      "source": [
        "# Imports"
      ],
      "metadata": {
        "id": "WseG4hpmdcKo"
      }
    },
    {
      "cell_type": "code",
      "execution_count": null,
      "metadata": {
        "id": "ibFn_A5vmumg"
      },
      "outputs": [],
      "source": [
        "import numpy as np\n",
        "import pandas as pd\n",
        "from matplotlib import pyplot as plt\n",
        "import seaborn as sn\n"
      ]
    },
    {
      "cell_type": "markdown",
      "source": [
        "# Loading the Data"
      ],
      "metadata": {
        "id": "qoQJ25p8df0z"
      }
    },
    {
      "cell_type": "code",
      "source": [
        "!gdown \"1uDSWhhUBPFjjUJmsh4-FLiRM2AakrC8f\"\n",
        "!unrar x \"./dataset.rar\" -idq"
      ],
      "metadata": {
        "id": "4DWcWnqeY0n6",
        "colab": {
          "base_uri": "https://localhost:8080/"
        },
        "outputId": "6339f053-8f76-4a05-ad65-e99b5d0506ce"
      },
      "execution_count": null,
      "outputs": [
        {
          "output_type": "stream",
          "name": "stdout",
          "text": [
            "Downloading...\n",
            "From: https://drive.google.com/uc?id=1uDSWhhUBPFjjUJmsh4-FLiRM2AakrC8f\n",
            "To: /content/dataset.rar\n",
            "\r  0% 0.00/3.82k [00:00<?, ?B/s]\r100% 3.82k/3.82k [00:00<00:00, 5.53MB/s]\n",
            "\n",
            "\n",
            "Would you like to replace the existing file dataset/heart.csv\n",
            " 11323 bytes, modified on 2021-03-22 09:41\n",
            "with a new one\n",
            " 11323 bytes, modified on 2021-03-22 09:41\n",
            "\n",
            "[Y]es, [N]o, [A]ll, n[E]ver, [R]ename, [Q]uit "
          ]
        }
      ]
    },
    {
      "cell_type": "markdown",
      "source": [
        "# Data Wrangling"
      ],
      "metadata": {
        "id": "cJ4sBqCvd19R"
      }
    },
    {
      "cell_type": "markdown",
      "source": [
        "## Column Description\n",
        "1. **age** : Age of the patient\n",
        "2. **Gender** : Sex of the patient\n",
        "3. **exang**: exercise induced angina (1 = yes; 0 = no)\n",
        "4. **ca**: number of major vessels (0-3)\n",
        "5. **cp** : Chest Pain type chest pain type\n",
        "    - Value 1: typical angina\n",
        "    - Value 2: atypical angina\n",
        "    - Value 3: non-anginal pain\n",
        "    - Value 4: asymptomatic\n",
        "\n",
        "6. **trtbps** : resting blood pressure (in mm Hg)\n",
        "7. **chol** : cholestoral in mg/dl fetched via BMI sensor\n",
        "8. **fbs** : (fasting blood sugar > 120 mg/dl) (1 = true; 0 = false\n",
        "9. **rest_ecg** : resting electrocardiographic results\n",
        "    - Value 0: normal\n",
        "    - Value 1: having ST-T wave abnormality (T wave inversions and/or ST elevation or depression of > 0.05 mV)\n",
        "    - Value 2: showing probable or definite left ventricular hypertrophy by Estes' criteria\n",
        "\n",
        "10. **thalach** : maximum heart rate achieved\n",
        "\n",
        "\n",
        "11. **oldpeak** : Previous peak\n",
        "\n",
        "12. **slp** : Slope\n",
        "\n",
        "13. **thall** : Thal rate\n",
        "\n",
        "14. **Output** : 0= less chance of heart attack 1= more chance of heart attack"
      ],
      "metadata": {
        "id": "UYdrvMYScdFY"
      }
    },
    {
      "cell_type": "code",
      "source": [
        "col_names = ['Age','Gender','CP', 'Trtbps', 'Chol', 'FBS', 'Rest_ecg', 'Thalach', 'Exang', 'Old_peak', 'Slope', 'CA', 'Thall', 'Output']\n",
        "df = pd.read_csv('dataset/heart.csv', header = 0, names = col_names)\n",
        "rearranged_col_names = ['Age', 'Gender', 'Exang', 'CA', 'CP', 'Trtbps', 'Chol', 'FBS', 'Rest_ecg', 'Thalach', 'Old_peak', 'Slope','Thall', 'Output']\n",
        "df = df[rearranged_col_names]\n",
        "df.head()"
      ],
      "metadata": {
        "id": "FPY0J4THa7JJ",
        "colab": {
          "base_uri": "https://localhost:8080/",
          "height": 206
        },
        "outputId": "fde59f8f-90a6-4c27-ac75-f9daaf0f8e38"
      },
      "execution_count": null,
      "outputs": [
        {
          "output_type": "execute_result",
          "data": {
            "text/plain": [
              "   Age  Gender  Exang  CA  CP  Trtbps  Chol  FBS  Rest_ecg  Thalach  Old_peak  \\\n",
              "0   63       1      0   0   3     145   233    1         0      150       2.3   \n",
              "1   37       1      0   0   2     130   250    0         1      187       3.5   \n",
              "2   41       0      0   0   1     130   204    0         0      172       1.4   \n",
              "3   56       1      0   0   1     120   236    0         1      178       0.8   \n",
              "4   57       0      1   0   0     120   354    0         1      163       0.6   \n",
              "\n",
              "   Slope  Thall  Output  \n",
              "0      0      1       1  \n",
              "1      0      2       1  \n",
              "2      2      2       1  \n",
              "3      2      2       1  \n",
              "4      2      2       1  "
            ],
            "text/html": [
              "\n",
              "  <div id=\"df-0f6fd47c-34bc-4d8e-b6c1-c631457b1d0e\">\n",
              "    <div class=\"colab-df-container\">\n",
              "      <div>\n",
              "<style scoped>\n",
              "    .dataframe tbody tr th:only-of-type {\n",
              "        vertical-align: middle;\n",
              "    }\n",
              "\n",
              "    .dataframe tbody tr th {\n",
              "        vertical-align: top;\n",
              "    }\n",
              "\n",
              "    .dataframe thead th {\n",
              "        text-align: right;\n",
              "    }\n",
              "</style>\n",
              "<table border=\"1\" class=\"dataframe\">\n",
              "  <thead>\n",
              "    <tr style=\"text-align: right;\">\n",
              "      <th></th>\n",
              "      <th>Age</th>\n",
              "      <th>Gender</th>\n",
              "      <th>Exang</th>\n",
              "      <th>CA</th>\n",
              "      <th>CP</th>\n",
              "      <th>Trtbps</th>\n",
              "      <th>Chol</th>\n",
              "      <th>FBS</th>\n",
              "      <th>Rest_ecg</th>\n",
              "      <th>Thalach</th>\n",
              "      <th>Old_peak</th>\n",
              "      <th>Slope</th>\n",
              "      <th>Thall</th>\n",
              "      <th>Output</th>\n",
              "    </tr>\n",
              "  </thead>\n",
              "  <tbody>\n",
              "    <tr>\n",
              "      <th>0</th>\n",
              "      <td>63</td>\n",
              "      <td>1</td>\n",
              "      <td>0</td>\n",
              "      <td>0</td>\n",
              "      <td>3</td>\n",
              "      <td>145</td>\n",
              "      <td>233</td>\n",
              "      <td>1</td>\n",
              "      <td>0</td>\n",
              "      <td>150</td>\n",
              "      <td>2.3</td>\n",
              "      <td>0</td>\n",
              "      <td>1</td>\n",
              "      <td>1</td>\n",
              "    </tr>\n",
              "    <tr>\n",
              "      <th>1</th>\n",
              "      <td>37</td>\n",
              "      <td>1</td>\n",
              "      <td>0</td>\n",
              "      <td>0</td>\n",
              "      <td>2</td>\n",
              "      <td>130</td>\n",
              "      <td>250</td>\n",
              "      <td>0</td>\n",
              "      <td>1</td>\n",
              "      <td>187</td>\n",
              "      <td>3.5</td>\n",
              "      <td>0</td>\n",
              "      <td>2</td>\n",
              "      <td>1</td>\n",
              "    </tr>\n",
              "    <tr>\n",
              "      <th>2</th>\n",
              "      <td>41</td>\n",
              "      <td>0</td>\n",
              "      <td>0</td>\n",
              "      <td>0</td>\n",
              "      <td>1</td>\n",
              "      <td>130</td>\n",
              "      <td>204</td>\n",
              "      <td>0</td>\n",
              "      <td>0</td>\n",
              "      <td>172</td>\n",
              "      <td>1.4</td>\n",
              "      <td>2</td>\n",
              "      <td>2</td>\n",
              "      <td>1</td>\n",
              "    </tr>\n",
              "    <tr>\n",
              "      <th>3</th>\n",
              "      <td>56</td>\n",
              "      <td>1</td>\n",
              "      <td>0</td>\n",
              "      <td>0</td>\n",
              "      <td>1</td>\n",
              "      <td>120</td>\n",
              "      <td>236</td>\n",
              "      <td>0</td>\n",
              "      <td>1</td>\n",
              "      <td>178</td>\n",
              "      <td>0.8</td>\n",
              "      <td>2</td>\n",
              "      <td>2</td>\n",
              "      <td>1</td>\n",
              "    </tr>\n",
              "    <tr>\n",
              "      <th>4</th>\n",
              "      <td>57</td>\n",
              "      <td>0</td>\n",
              "      <td>1</td>\n",
              "      <td>0</td>\n",
              "      <td>0</td>\n",
              "      <td>120</td>\n",
              "      <td>354</td>\n",
              "      <td>0</td>\n",
              "      <td>1</td>\n",
              "      <td>163</td>\n",
              "      <td>0.6</td>\n",
              "      <td>2</td>\n",
              "      <td>2</td>\n",
              "      <td>1</td>\n",
              "    </tr>\n",
              "  </tbody>\n",
              "</table>\n",
              "</div>\n",
              "      <button class=\"colab-df-convert\" onclick=\"convertToInteractive('df-0f6fd47c-34bc-4d8e-b6c1-c631457b1d0e')\"\n",
              "              title=\"Convert this dataframe to an interactive table.\"\n",
              "              style=\"display:none;\">\n",
              "        \n",
              "  <svg xmlns=\"http://www.w3.org/2000/svg\" height=\"24px\"viewBox=\"0 0 24 24\"\n",
              "       width=\"24px\">\n",
              "    <path d=\"M0 0h24v24H0V0z\" fill=\"none\"/>\n",
              "    <path d=\"M18.56 5.44l.94 2.06.94-2.06 2.06-.94-2.06-.94-.94-2.06-.94 2.06-2.06.94zm-11 1L8.5 8.5l.94-2.06 2.06-.94-2.06-.94L8.5 2.5l-.94 2.06-2.06.94zm10 10l.94 2.06.94-2.06 2.06-.94-2.06-.94-.94-2.06-.94 2.06-2.06.94z\"/><path d=\"M17.41 7.96l-1.37-1.37c-.4-.4-.92-.59-1.43-.59-.52 0-1.04.2-1.43.59L10.3 9.45l-7.72 7.72c-.78.78-.78 2.05 0 2.83L4 21.41c.39.39.9.59 1.41.59.51 0 1.02-.2 1.41-.59l7.78-7.78 2.81-2.81c.8-.78.8-2.07 0-2.86zM5.41 20L4 18.59l7.72-7.72 1.47 1.35L5.41 20z\"/>\n",
              "  </svg>\n",
              "      </button>\n",
              "      \n",
              "  <style>\n",
              "    .colab-df-container {\n",
              "      display:flex;\n",
              "      flex-wrap:wrap;\n",
              "      gap: 12px;\n",
              "    }\n",
              "\n",
              "    .colab-df-convert {\n",
              "      background-color: #E8F0FE;\n",
              "      border: none;\n",
              "      border-radius: 50%;\n",
              "      cursor: pointer;\n",
              "      display: none;\n",
              "      fill: #1967D2;\n",
              "      height: 32px;\n",
              "      padding: 0 0 0 0;\n",
              "      width: 32px;\n",
              "    }\n",
              "\n",
              "    .colab-df-convert:hover {\n",
              "      background-color: #E2EBFA;\n",
              "      box-shadow: 0px 1px 2px rgba(60, 64, 67, 0.3), 0px 1px 3px 1px rgba(60, 64, 67, 0.15);\n",
              "      fill: #174EA6;\n",
              "    }\n",
              "\n",
              "    [theme=dark] .colab-df-convert {\n",
              "      background-color: #3B4455;\n",
              "      fill: #D2E3FC;\n",
              "    }\n",
              "\n",
              "    [theme=dark] .colab-df-convert:hover {\n",
              "      background-color: #434B5C;\n",
              "      box-shadow: 0px 1px 3px 1px rgba(0, 0, 0, 0.15);\n",
              "      filter: drop-shadow(0px 1px 2px rgba(0, 0, 0, 0.3));\n",
              "      fill: #FFFFFF;\n",
              "    }\n",
              "  </style>\n",
              "\n",
              "      <script>\n",
              "        const buttonEl =\n",
              "          document.querySelector('#df-0f6fd47c-34bc-4d8e-b6c1-c631457b1d0e button.colab-df-convert');\n",
              "        buttonEl.style.display =\n",
              "          google.colab.kernel.accessAllowed ? 'block' : 'none';\n",
              "\n",
              "        async function convertToInteractive(key) {\n",
              "          const element = document.querySelector('#df-0f6fd47c-34bc-4d8e-b6c1-c631457b1d0e');\n",
              "          const dataTable =\n",
              "            await google.colab.kernel.invokeFunction('convertToInteractive',\n",
              "                                                     [key], {});\n",
              "          if (!dataTable) return;\n",
              "\n",
              "          const docLinkHtml = 'Like what you see? Visit the ' +\n",
              "            '<a target=\"_blank\" href=https://colab.research.google.com/notebooks/data_table.ipynb>data table notebook</a>'\n",
              "            + ' to learn more about interactive tables.';\n",
              "          element.innerHTML = '';\n",
              "          dataTable['output_type'] = 'display_data';\n",
              "          await google.colab.output.renderOutput(dataTable, element);\n",
              "          const docLink = document.createElement('div');\n",
              "          docLink.innerHTML = docLinkHtml;\n",
              "          element.appendChild(docLink);\n",
              "        }\n",
              "      </script>\n",
              "    </div>\n",
              "  </div>\n",
              "  "
            ]
          },
          "metadata": {},
          "execution_count": 17
        }
      ]
    },
    {
      "cell_type": "markdown",
      "source": [
        "\n",
        "\n",
        "---\n",
        "\n"
      ],
      "metadata": {
        "id": "wgHDAKV6dPlb"
      }
    },
    {
      "cell_type": "markdown",
      "source": [
        "## Checking the Data"
      ],
      "metadata": {
        "id": "HfMRyL4MdPc_"
      }
    },
    {
      "cell_type": "code",
      "source": [
        "df.info() # No null values in dataset\n",
        "# 303 Examples\n",
        "# 14 Features\n",
        "# (303) X (14)\n"
      ],
      "metadata": {
        "id": "dmJ7laUabDmY",
        "colab": {
          "base_uri": "https://localhost:8080/"
        },
        "outputId": "3d213441-c29b-462d-f372-25512fc4b670"
      },
      "execution_count": null,
      "outputs": [
        {
          "output_type": "stream",
          "name": "stdout",
          "text": [
            "<class 'pandas.core.frame.DataFrame'>\n",
            "RangeIndex: 303 entries, 0 to 302\n",
            "Data columns (total 14 columns):\n",
            " #   Column    Non-Null Count  Dtype  \n",
            "---  ------    --------------  -----  \n",
            " 0   Age       303 non-null    int64  \n",
            " 1   Gender    303 non-null    int64  \n",
            " 2   Exang     303 non-null    int64  \n",
            " 3   CA        303 non-null    int64  \n",
            " 4   CP        303 non-null    int64  \n",
            " 5   Trtbps    303 non-null    int64  \n",
            " 6   Chol      303 non-null    int64  \n",
            " 7   FBS       303 non-null    int64  \n",
            " 8   Rest_ecg  303 non-null    int64  \n",
            " 9   Thalach   303 non-null    int64  \n",
            " 10  Old_peak  303 non-null    float64\n",
            " 11  Slope     303 non-null    int64  \n",
            " 12  Thall     303 non-null    int64  \n",
            " 13  Output    303 non-null    int64  \n",
            "dtypes: float64(1), int64(13)\n",
            "memory usage: 33.3 KB\n"
          ]
        }
      ]
    },
    {
      "cell_type": "code",
      "source": [
        "df.describe()\n",
        "# Gender range between 29 and 77 which is acceptable range\n",
        "# Number of major vessales (column name CA) should be between 0 and 3, but 4 can be found.\n",
        "# Resting blood pressure (column name Trtbps) have a maximum value of 200 mm Hg, is this possible?\n",
        "# Maximum heart rate achieved (column name Thalach) have a maximum value of 202 units, is this possible?"
      ],
      "metadata": {
        "id": "MpZMfWwUbT5y",
        "colab": {
          "base_uri": "https://localhost:8080/",
          "height": 364
        },
        "outputId": "75c6c3e5-4913-4b5a-a022-b260b2e8fa89"
      },
      "execution_count": null,
      "outputs": [
        {
          "output_type": "execute_result",
          "data": {
            "text/plain": [
              "              Age      Gender       Exang          CA          CP      Trtbps  \\\n",
              "count  303.000000  303.000000  303.000000  303.000000  303.000000  303.000000   \n",
              "mean    54.366337    0.683168    0.326733    0.729373    0.966997  131.623762   \n",
              "std      9.082101    0.466011    0.469794    1.022606    1.032052   17.538143   \n",
              "min     29.000000    0.000000    0.000000    0.000000    0.000000   94.000000   \n",
              "25%     47.500000    0.000000    0.000000    0.000000    0.000000  120.000000   \n",
              "50%     55.000000    1.000000    0.000000    0.000000    1.000000  130.000000   \n",
              "75%     61.000000    1.000000    1.000000    1.000000    2.000000  140.000000   \n",
              "max     77.000000    1.000000    1.000000    4.000000    3.000000  200.000000   \n",
              "\n",
              "             Chol         FBS    Rest_ecg     Thalach    Old_peak       Slope  \\\n",
              "count  303.000000  303.000000  303.000000  303.000000  303.000000  303.000000   \n",
              "mean   246.264026    0.148515    0.528053  149.646865    1.039604    1.399340   \n",
              "std     51.830751    0.356198    0.525860   22.905161    1.161075    0.616226   \n",
              "min    126.000000    0.000000    0.000000   71.000000    0.000000    0.000000   \n",
              "25%    211.000000    0.000000    0.000000  133.500000    0.000000    1.000000   \n",
              "50%    240.000000    0.000000    1.000000  153.000000    0.800000    1.000000   \n",
              "75%    274.500000    0.000000    1.000000  166.000000    1.600000    2.000000   \n",
              "max    564.000000    1.000000    2.000000  202.000000    6.200000    2.000000   \n",
              "\n",
              "            Thall      Output  \n",
              "count  303.000000  303.000000  \n",
              "mean     2.313531    0.544554  \n",
              "std      0.612277    0.498835  \n",
              "min      0.000000    0.000000  \n",
              "25%      2.000000    0.000000  \n",
              "50%      2.000000    1.000000  \n",
              "75%      3.000000    1.000000  \n",
              "max      3.000000    1.000000  "
            ],
            "text/html": [
              "\n",
              "  <div id=\"df-8dd1f95d-1621-4572-8b78-df7c29377479\">\n",
              "    <div class=\"colab-df-container\">\n",
              "      <div>\n",
              "<style scoped>\n",
              "    .dataframe tbody tr th:only-of-type {\n",
              "        vertical-align: middle;\n",
              "    }\n",
              "\n",
              "    .dataframe tbody tr th {\n",
              "        vertical-align: top;\n",
              "    }\n",
              "\n",
              "    .dataframe thead th {\n",
              "        text-align: right;\n",
              "    }\n",
              "</style>\n",
              "<table border=\"1\" class=\"dataframe\">\n",
              "  <thead>\n",
              "    <tr style=\"text-align: right;\">\n",
              "      <th></th>\n",
              "      <th>Age</th>\n",
              "      <th>Gender</th>\n",
              "      <th>Exang</th>\n",
              "      <th>CA</th>\n",
              "      <th>CP</th>\n",
              "      <th>Trtbps</th>\n",
              "      <th>Chol</th>\n",
              "      <th>FBS</th>\n",
              "      <th>Rest_ecg</th>\n",
              "      <th>Thalach</th>\n",
              "      <th>Old_peak</th>\n",
              "      <th>Slope</th>\n",
              "      <th>Thall</th>\n",
              "      <th>Output</th>\n",
              "    </tr>\n",
              "  </thead>\n",
              "  <tbody>\n",
              "    <tr>\n",
              "      <th>count</th>\n",
              "      <td>303.000000</td>\n",
              "      <td>303.000000</td>\n",
              "      <td>303.000000</td>\n",
              "      <td>303.000000</td>\n",
              "      <td>303.000000</td>\n",
              "      <td>303.000000</td>\n",
              "      <td>303.000000</td>\n",
              "      <td>303.000000</td>\n",
              "      <td>303.000000</td>\n",
              "      <td>303.000000</td>\n",
              "      <td>303.000000</td>\n",
              "      <td>303.000000</td>\n",
              "      <td>303.000000</td>\n",
              "      <td>303.000000</td>\n",
              "    </tr>\n",
              "    <tr>\n",
              "      <th>mean</th>\n",
              "      <td>54.366337</td>\n",
              "      <td>0.683168</td>\n",
              "      <td>0.326733</td>\n",
              "      <td>0.729373</td>\n",
              "      <td>0.966997</td>\n",
              "      <td>131.623762</td>\n",
              "      <td>246.264026</td>\n",
              "      <td>0.148515</td>\n",
              "      <td>0.528053</td>\n",
              "      <td>149.646865</td>\n",
              "      <td>1.039604</td>\n",
              "      <td>1.399340</td>\n",
              "      <td>2.313531</td>\n",
              "      <td>0.544554</td>\n",
              "    </tr>\n",
              "    <tr>\n",
              "      <th>std</th>\n",
              "      <td>9.082101</td>\n",
              "      <td>0.466011</td>\n",
              "      <td>0.469794</td>\n",
              "      <td>1.022606</td>\n",
              "      <td>1.032052</td>\n",
              "      <td>17.538143</td>\n",
              "      <td>51.830751</td>\n",
              "      <td>0.356198</td>\n",
              "      <td>0.525860</td>\n",
              "      <td>22.905161</td>\n",
              "      <td>1.161075</td>\n",
              "      <td>0.616226</td>\n",
              "      <td>0.612277</td>\n",
              "      <td>0.498835</td>\n",
              "    </tr>\n",
              "    <tr>\n",
              "      <th>min</th>\n",
              "      <td>29.000000</td>\n",
              "      <td>0.000000</td>\n",
              "      <td>0.000000</td>\n",
              "      <td>0.000000</td>\n",
              "      <td>0.000000</td>\n",
              "      <td>94.000000</td>\n",
              "      <td>126.000000</td>\n",
              "      <td>0.000000</td>\n",
              "      <td>0.000000</td>\n",
              "      <td>71.000000</td>\n",
              "      <td>0.000000</td>\n",
              "      <td>0.000000</td>\n",
              "      <td>0.000000</td>\n",
              "      <td>0.000000</td>\n",
              "    </tr>\n",
              "    <tr>\n",
              "      <th>25%</th>\n",
              "      <td>47.500000</td>\n",
              "      <td>0.000000</td>\n",
              "      <td>0.000000</td>\n",
              "      <td>0.000000</td>\n",
              "      <td>0.000000</td>\n",
              "      <td>120.000000</td>\n",
              "      <td>211.000000</td>\n",
              "      <td>0.000000</td>\n",
              "      <td>0.000000</td>\n",
              "      <td>133.500000</td>\n",
              "      <td>0.000000</td>\n",
              "      <td>1.000000</td>\n",
              "      <td>2.000000</td>\n",
              "      <td>0.000000</td>\n",
              "    </tr>\n",
              "    <tr>\n",
              "      <th>50%</th>\n",
              "      <td>55.000000</td>\n",
              "      <td>1.000000</td>\n",
              "      <td>0.000000</td>\n",
              "      <td>0.000000</td>\n",
              "      <td>1.000000</td>\n",
              "      <td>130.000000</td>\n",
              "      <td>240.000000</td>\n",
              "      <td>0.000000</td>\n",
              "      <td>1.000000</td>\n",
              "      <td>153.000000</td>\n",
              "      <td>0.800000</td>\n",
              "      <td>1.000000</td>\n",
              "      <td>2.000000</td>\n",
              "      <td>1.000000</td>\n",
              "    </tr>\n",
              "    <tr>\n",
              "      <th>75%</th>\n",
              "      <td>61.000000</td>\n",
              "      <td>1.000000</td>\n",
              "      <td>1.000000</td>\n",
              "      <td>1.000000</td>\n",
              "      <td>2.000000</td>\n",
              "      <td>140.000000</td>\n",
              "      <td>274.500000</td>\n",
              "      <td>0.000000</td>\n",
              "      <td>1.000000</td>\n",
              "      <td>166.000000</td>\n",
              "      <td>1.600000</td>\n",
              "      <td>2.000000</td>\n",
              "      <td>3.000000</td>\n",
              "      <td>1.000000</td>\n",
              "    </tr>\n",
              "    <tr>\n",
              "      <th>max</th>\n",
              "      <td>77.000000</td>\n",
              "      <td>1.000000</td>\n",
              "      <td>1.000000</td>\n",
              "      <td>4.000000</td>\n",
              "      <td>3.000000</td>\n",
              "      <td>200.000000</td>\n",
              "      <td>564.000000</td>\n",
              "      <td>1.000000</td>\n",
              "      <td>2.000000</td>\n",
              "      <td>202.000000</td>\n",
              "      <td>6.200000</td>\n",
              "      <td>2.000000</td>\n",
              "      <td>3.000000</td>\n",
              "      <td>1.000000</td>\n",
              "    </tr>\n",
              "  </tbody>\n",
              "</table>\n",
              "</div>\n",
              "      <button class=\"colab-df-convert\" onclick=\"convertToInteractive('df-8dd1f95d-1621-4572-8b78-df7c29377479')\"\n",
              "              title=\"Convert this dataframe to an interactive table.\"\n",
              "              style=\"display:none;\">\n",
              "        \n",
              "  <svg xmlns=\"http://www.w3.org/2000/svg\" height=\"24px\"viewBox=\"0 0 24 24\"\n",
              "       width=\"24px\">\n",
              "    <path d=\"M0 0h24v24H0V0z\" fill=\"none\"/>\n",
              "    <path d=\"M18.56 5.44l.94 2.06.94-2.06 2.06-.94-2.06-.94-.94-2.06-.94 2.06-2.06.94zm-11 1L8.5 8.5l.94-2.06 2.06-.94-2.06-.94L8.5 2.5l-.94 2.06-2.06.94zm10 10l.94 2.06.94-2.06 2.06-.94-2.06-.94-.94-2.06-.94 2.06-2.06.94z\"/><path d=\"M17.41 7.96l-1.37-1.37c-.4-.4-.92-.59-1.43-.59-.52 0-1.04.2-1.43.59L10.3 9.45l-7.72 7.72c-.78.78-.78 2.05 0 2.83L4 21.41c.39.39.9.59 1.41.59.51 0 1.02-.2 1.41-.59l7.78-7.78 2.81-2.81c.8-.78.8-2.07 0-2.86zM5.41 20L4 18.59l7.72-7.72 1.47 1.35L5.41 20z\"/>\n",
              "  </svg>\n",
              "      </button>\n",
              "      \n",
              "  <style>\n",
              "    .colab-df-container {\n",
              "      display:flex;\n",
              "      flex-wrap:wrap;\n",
              "      gap: 12px;\n",
              "    }\n",
              "\n",
              "    .colab-df-convert {\n",
              "      background-color: #E8F0FE;\n",
              "      border: none;\n",
              "      border-radius: 50%;\n",
              "      cursor: pointer;\n",
              "      display: none;\n",
              "      fill: #1967D2;\n",
              "      height: 32px;\n",
              "      padding: 0 0 0 0;\n",
              "      width: 32px;\n",
              "    }\n",
              "\n",
              "    .colab-df-convert:hover {\n",
              "      background-color: #E2EBFA;\n",
              "      box-shadow: 0px 1px 2px rgba(60, 64, 67, 0.3), 0px 1px 3px 1px rgba(60, 64, 67, 0.15);\n",
              "      fill: #174EA6;\n",
              "    }\n",
              "\n",
              "    [theme=dark] .colab-df-convert {\n",
              "      background-color: #3B4455;\n",
              "      fill: #D2E3FC;\n",
              "    }\n",
              "\n",
              "    [theme=dark] .colab-df-convert:hover {\n",
              "      background-color: #434B5C;\n",
              "      box-shadow: 0px 1px 3px 1px rgba(0, 0, 0, 0.15);\n",
              "      filter: drop-shadow(0px 1px 2px rgba(0, 0, 0, 0.3));\n",
              "      fill: #FFFFFF;\n",
              "    }\n",
              "  </style>\n",
              "\n",
              "      <script>\n",
              "        const buttonEl =\n",
              "          document.querySelector('#df-8dd1f95d-1621-4572-8b78-df7c29377479 button.colab-df-convert');\n",
              "        buttonEl.style.display =\n",
              "          google.colab.kernel.accessAllowed ? 'block' : 'none';\n",
              "\n",
              "        async function convertToInteractive(key) {\n",
              "          const element = document.querySelector('#df-8dd1f95d-1621-4572-8b78-df7c29377479');\n",
              "          const dataTable =\n",
              "            await google.colab.kernel.invokeFunction('convertToInteractive',\n",
              "                                                     [key], {});\n",
              "          if (!dataTable) return;\n",
              "\n",
              "          const docLinkHtml = 'Like what you see? Visit the ' +\n",
              "            '<a target=\"_blank\" href=https://colab.research.google.com/notebooks/data_table.ipynb>data table notebook</a>'\n",
              "            + ' to learn more about interactive tables.';\n",
              "          element.innerHTML = '';\n",
              "          dataTable['output_type'] = 'display_data';\n",
              "          await google.colab.output.renderOutput(dataTable, element);\n",
              "          const docLink = document.createElement('div');\n",
              "          docLink.innerHTML = docLinkHtml;\n",
              "          element.appendChild(docLink);\n",
              "        }\n",
              "      </script>\n",
              "    </div>\n",
              "  </div>\n",
              "  "
            ]
          },
          "metadata": {},
          "execution_count": 19
        }
      ]
    },
    {
      "cell_type": "code",
      "source": [
        "df['Output'].value_counts(normalize=True) # Each class is about 50%"
      ],
      "metadata": {
        "colab": {
          "base_uri": "https://localhost:8080/"
        },
        "id": "GqTCuCLgbnoJ",
        "outputId": "f7cd9e81-4d7e-4d98-855a-7edc4c17089e"
      },
      "execution_count": null,
      "outputs": [
        {
          "output_type": "execute_result",
          "data": {
            "text/plain": [
              "1    0.544554\n",
              "0    0.455446\n",
              "Name: Output, dtype: float64"
            ]
          },
          "metadata": {},
          "execution_count": 20
        }
      ]
    },
    {
      "cell_type": "markdown",
      "source": [
        "# Data visualization and clearning"
      ],
      "metadata": {
        "id": "Pa0BAaqeYxtD"
      }
    },
    {
      "cell_type": "markdown",
      "source": [
        "## Outlier detection and removal"
      ],
      "metadata": {
        "id": "c7h8NrmxSgu4"
      }
    },
    {
      "cell_type": "code",
      "source": [
        "# selected columns before removing outliers\n",
        "arr = [df['Chol'].to_numpy(), df['Thalach'].to_numpy(), df['Trtbps'].to_numpy()]\n",
        "plt.boxplot(arr)\n",
        "plt.xticks([1, 2, 3], ['Chol', 'Thalach', 'Trtbps'])\n",
        "plt.show()"
      ],
      "metadata": {
        "colab": {
          "base_uri": "https://localhost:8080/",
          "height": 265
        },
        "id": "bK84QEaeST2C",
        "outputId": "b61a35af-2a31-49ee-8f6f-c9dc3421c5cc"
      },
      "execution_count": null,
      "outputs": [
        {
          "output_type": "display_data",
          "data": {
            "text/plain": [
              "<Figure size 432x288 with 1 Axes>"
            ],
            "image/png": "[encoded data removed]"
          },
          "metadata": {
            "needs_background": "light"
          }
        }
      ]
    },
    {
      "cell_type": "code",
      "source": [
        "# Cleaned data after removing outliers\n",
        "df = df.loc[df['Chol'] < 380]\n",
        "df = df.loc[df['Thalach'] > 80]\n",
        "df = df.loc[df['Trtbps'] < 170]\n",
        "arr = [df['Chol'].to_numpy(), df['Thalach'].to_numpy(), df['Trtbps'].to_numpy()]\n",
        "plt.boxplot(arr)\n",
        "plt.xticks([1, 2, 3], ['Chol', 'Thalach', 'Trtbps'])\n",
        "plt.show()"
      ],
      "metadata": {
        "colab": {
          "base_uri": "https://localhost:8080/",
          "height": 265
        },
        "id": "c0TSEIAED1mj",
        "outputId": "cde3d49f-b00e-43d7-bea5-266326af3e76"
      },
      "execution_count": null,
      "outputs": [
        {
          "output_type": "display_data",
          "data": {
            "text/plain": [
              "<Figure size 432x288 with 1 Axes>"
            ],
            "image/png": "[encoded data removed]"
          },
          "metadata": {
            "needs_background": "light"
          }
        }
      ]
    },
    {
      "cell_type": "code",
      "source": [
        "# selected columns before removing outliers \n",
        "arr = [df['CA'].to_numpy(), df['FBS'].to_numpy(), df['Old_peak'].to_numpy(), df['Thall'].to_numpy()]\n",
        "plt.boxplot(arr)\n",
        "plt.xticks([1, 2, 3, 4], ['CA', 'FBS', 'Old_peak', 'Thall'])\n",
        "plt.show()"
      ],
      "metadata": {
        "colab": {
          "base_uri": "https://localhost:8080/",
          "height": 266
        },
        "id": "ZsblCKicSI9P",
        "outputId": "79328fad-9f7b-4b5c-81f9-75ccff496107"
      },
      "execution_count": null,
      "outputs": [
        {
          "output_type": "display_data",
          "data": {
            "text/plain": [
              "<Figure size 432x288 with 1 Axes>"
            ],
            "image/png": "[encoded data removed]"
          },
          "metadata": {
            "needs_background": "light"
          }
        }
      ]
    },
    {
      "cell_type": "code",
      "source": [
        "# Cleaned data after removing outliers\n",
        "df = df.loc[df['CA'] < 2.5]\n",
        "df = df.loc[df['FBS'] < 0.5]\n",
        "df = df.loc[df['Old_peak'] < 3.5]\n",
        "df = df.loc[df['Thall'] > 1]\n",
        "arr = [df['CA'].to_numpy(), df['FBS'].to_numpy(), df['Old_peak'].to_numpy(), df['Thall'].to_numpy()]\n",
        "plt.boxplot(arr)\n",
        "plt.xticks([1, 2, 3, 4], ['CA', 'FBS', 'Old_peak', 'Thall'])\n",
        "plt.show()"
      ],
      "metadata": {
        "colab": {
          "base_uri": "https://localhost:8080/",
          "height": 266
        },
        "id": "zl2zHEcpGYMf",
        "outputId": "279fad4d-cbbd-43a3-fbea-6f9de5327e6f"
      },
      "execution_count": null,
      "outputs": [
        {
          "output_type": "display_data",
          "data": {
            "text/plain": [
              "<Figure size 432x288 with 1 Axes>"
            ],
            "image/png": "[encoded data removed]"
          },
          "metadata": {
            "needs_background": "light"
          }
        }
      ]
    },
    {
      "cell_type": "code",
      "source": [
        "sns.kedplot(df['T'])"
      ],
      "metadata": {
        "id": "8mQsH6Qcakg1"
      },
      "execution_count": null,
      "outputs": []
    },
    {
      "cell_type": "markdown",
      "source": [
        "## Correlation matrix"
      ],
      "metadata": {
        "id": "yKIm1D-sZ5TV"
      }
    },
    {
      "cell_type": "markdown",
      "source": [
        "Correlation matrix helps us to detect correlated features in our data set. So, we can remove strongly correlated data with small effect on our final machine learning model. "
      ],
      "metadata": {
        "id": "2Yaneu0vg6rM"
      }
    },
    {
      "cell_type": "code",
      "source": [
        "corrMatrix = df.corr()\n",
        "plt.figure(figsize=(20,5))\n",
        "sn.heatmap(corrMatrix, annot=True)\n"
      ],
      "metadata": {
        "colab": {
          "base_uri": "https://localhost:8080/",
          "height": 342
        },
        "id": "9Se8C0vQZ43I",
        "outputId": "f678f1cd-71d0-43a5-8188-9ec2fe9901e5"
      },
      "execution_count": null,
      "outputs": [
        {
          "output_type": "execute_result",
          "data": {
            "text/plain": [
              "<matplotlib.axes._subplots.AxesSubplot at 0x7fcec7310cd0>"
            ]
          },
          "metadata": {},
          "execution_count": 25
        },
        {
          "output_type": "display_data",
          "data": {
            "text/plain": [
              "<Figure size 1440x360 with 2 Axes>"
            ],
            "image/png": "[encoded data removed]"
          },
          "metadata": {
            "needs_background": "light"
          }
        }
      ]
    },
    {
      "cell_type": "markdown",
      "source": [
        "## Correlation between age and heart rate"
      ],
      "metadata": {
        "id": "efBmcgrwZzIE"
      }
    },
    {
      "cell_type": "code",
      "source": [
        "# scatter plot between $age and $heart_rate\n",
        "age_x = df['Age']\n",
        "heart_rate_y = df['Thalach'] \n",
        "plt.scatter(age_x, heart_rate_y)\n",
        "plt.xlabel('age')\n",
        "plt.ylabel('Thalach')\n",
        "plt.title('Age vs Heart rate')\n",
        "plt.legend()\n",
        "plt.show()\n",
        "# From graph below we can see that age is inversely correlated with heart rate. When age increases heart rate decreases."
      ],
      "metadata": {
        "id": "62N2fDrlpIJM",
        "colab": {
          "base_uri": "https://localhost:8080/",
          "height": 312
        },
        "outputId": "34449904-5233-420a-b51c-f1b3fdb11aa9"
      },
      "execution_count": null,
      "outputs": [
        {
          "output_type": "stream",
          "name": "stderr",
          "text": [
            "No handles with labels found to put in legend.\n"
          ]
        },
        {
          "output_type": "display_data",
          "data": {
            "text/plain": [
              "<Figure size 432x288 with 1 Axes>"
            ],
            "image/png": "[encoded data removed]"
          },
          "metadata": {
            "needs_background": "light"
          }
        }
      ]
    },
    {
      "cell_type": "code",
      "source": [
        "# assume that 0: female and 1: male\n",
        "count = df['Gender'].value_counts()\n",
        "print(count)\n",
        "plt.bar(['male', 'female'], count, color=['#293462', '#F24C4C'])\n",
        "plt.show()\n",
        "# according to the graph our data has more men than women, which may lead to bias towards men in our machine learning detection model"
      ],
      "metadata": {
        "colab": {
          "base_uri": "https://localhost:8080/",
          "height": 320
        },
        "id": "YkPfEJfth455",
        "outputId": "21b4184e-c417-4459-d848-1b760cbfed7f"
      },
      "execution_count": null,
      "outputs": [
        {
          "output_type": "stream",
          "name": "stdout",
          "text": [
            "1    134\n",
            "0     73\n",
            "Name: Gender, dtype: int64\n"
          ]
        },
        {
          "output_type": "display_data",
          "data": {
            "text/plain": [
              "<Figure size 432x288 with 1 Axes>"
            ],
            "image/png": "[encoded data removed]"
          },
          "metadata": {
            "needs_background": "light"
          }
        }
      ]
    },
    {
      "cell_type": "markdown",
      "source": [
        "# Saving the Cleaned Data Frame"
      ],
      "metadata": {
        "id": "omw2tjy1g7EL"
      }
    },
    {
      "cell_type": "code",
      "source": [
        "from os.path import exists\n",
        "\n",
        "##############################################################################################################\n",
        "##                                                                                                          ##\n",
        "##      Ignore this, Change file_path, file_name, and df_to_save then run the cell and wait for output.     ##\n",
        "def save_df(local_path, file_name, df_to_save):\n",
        "    overwrite = True\n",
        "\n",
        "    if not(exists('/content/' + local_path)):\n",
        "        overwrite = False\n",
        "        print(f\"\\n!! Saving failed, path to folder does not exist, {'/content/' + local_path}\")\n",
        "\n",
        "    if(exists(local_path+file_name)):\n",
        "        try:\n",
        "            overwrite = int(input('This file already exists!\\n\\nDo you wish to overwrite it? [1]Yes, [0]No:  '))\n",
        "        except:\n",
        "            overwrite = False\n",
        "            print(\"\\n!! Saving failed, please enter either 1 or 0.\")\n",
        "\n",
        "\n",
        "\n",
        "    if(overwrite):\n",
        "        print(f\"\\n\\nFile Saved to {'/content/' + local_path + file_name}\")\n",
        "        df_to_save.to_csv('/content/' + local_path + file_name)\n",
        "    else:\n",
        "        print('\\n\\nNo Changes')\n",
        "##                                                                                                          ##\n",
        "##############################################################################################################\n",
        "\n",
        "local_path = 'Clean DataFrame/' # must end with '/'\n",
        "# this folder must exists with the Google Colab 'content' folder (the default one)\n",
        "# if it does not, then create it manualy.\n",
        "\n",
        "file_name = 'cleaned_data.csv'\n",
        "# the name of the csv file\n",
        "\n",
        "df_to_save = df.copy()\n",
        "# The name of the df to save\n",
        "\n",
        "save_df(local_path, file_name, df_to_save) # Check output.\n",
        "# download locally if needed\n"
      ],
      "metadata": {
        "id": "KsvgjLRnZsBb",
        "colab": {
          "base_uri": "https://localhost:8080/"
        },
        "outputId": "4898d84b-298f-4a54-92df-df04cdb25ef9"
      },
      "execution_count": null,
      "outputs": [
        {
          "output_type": "stream",
          "name": "stdout",
          "text": [
            "\n",
            "\n",
            "File Saved to /content/Clean DataFrame/cleaned_data.csv\n"
          ]
        }
      ]
    }
  ]
}