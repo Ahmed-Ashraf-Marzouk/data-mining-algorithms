{
  "nbformat": 4,
  "nbformat_minor": 0,
  "metadata": {
    "colab": {
      "name": "K-means",
      "provenance": [],
      "collapsed_sections": [],
      "authorship_tag": "ABX9TyMCShxWmkMlQYuv7UEVGlP+",
      "include_colab_link": true
    },
    "kernelspec": {
      "name": "python3",
      "display_name": "Python 3"
    },
    "language_info": {
      "name": "python"
    }
  },
  "cells": [
    {
      "cell_type": "markdown",
      "metadata": {
        "id": "view-in-github",
        "colab_type": "text"
      },
      "source": [
        "<a href=\"https://colab.research.google.com/github/Ahmed-Ashraf-Marzouk/data-mining-heart-attack/blob/main/K_means.ipynb\" target=\"_parent\"><img src=\"https://colab.research.google.com/assets/colab-badge.svg\" alt=\"Open In Colab\"/></a>"
      ]
    },
    {
      "cell_type": "markdown",
      "source": [
        "# Imports"
      ],
      "metadata": {
        "id": "-t7PM_ZEqDNE"
      }
    },
    {
      "cell_type": "code",
      "execution_count": 85,
      "metadata": {
        "id": "K_q0Jlf_s9EO"
      },
      "outputs": [],
      "source": [
        "#imports \n",
        "\n",
        "import numpy as np\n",
        "import pandas as pd\n",
        "from matplotlib import pyplot as plt\n",
        "import matplotlib.pyplot as plt\n",
        "import seaborn as sns\n",
        "# from kneed import KneeLocator\n",
        "from sklearn.cluster import KMeans\n",
        "from sklearn.metrics import silhouette_score\n",
        "from sklearn.preprocessing import StandardScaler\n",
        "from sklearn.metrics import confusion_matrix,accuracy_score, f1_score, roc_auc_score, roc_curve, auc, plot_roc_curve, precision_score, recall_score"
      ]
    },
    {
      "cell_type": "code",
      "source": [
        "!gdown \"1uDSWhhUBPFjjUJmsh4-FLiRM2AakrC8f\"\n",
        "!unrar x \"./dataset.rar\" -idq"
      ],
      "metadata": {
        "colab": {
          "base_uri": "https://localhost:8080/"
        },
        "id": "c9HoVEWVxvx8",
        "outputId": "e72c4702-0ff5-4d27-a3c4-375d454278d7"
      },
      "execution_count": 87,
      "outputs": [
        {
          "output_type": "stream",
          "name": "stdout",
          "text": [
            "Downloading...\n",
            "From: https://drive.google.com/uc?id=1uDSWhhUBPFjjUJmsh4-FLiRM2AakrC8f\n",
            "To: /content/dataset.rar\n",
            "\r  0% 0.00/3.82k [00:00<?, ?B/s]\r100% 3.82k/3.82k [00:00<00:00, 3.46MB/s]\n",
            "\n",
            "\n",
            "Would you like to replace the existing file dataset/heart.csv\n",
            " 11323 bytes, modified on 2021-03-22 09:41\n",
            "with a new one\n",
            " 11323 bytes, modified on 2021-03-22 09:41\n",
            "\n",
            "[Y]es, [N]o, [A]ll, n[E]ver, [R]ename, [Q]uit "
          ]
        }
      ]
    },
    {
      "cell_type": "markdown",
      "source": [
        "# Data wrangling "
      ],
      "metadata": {
        "id": "UVdRA0FuqLNF"
      }
    },
    {
      "cell_type": "code",
      "source": [
        "col_names = ['Age','Gender','CP', 'Trtbps', 'Chol', 'FBS', 'Rest_ecg', 'Thalach', 'Exang', 'Old_peak', 'Slope', 'CA', 'Thall', 'Output']\n",
        "df = pd.read_csv('dataset/heart.csv', header = 0, names = col_names)\n",
        "rearranged_col_names = ['Age', 'Gender', 'Exang', 'CA', 'CP', 'Trtbps', 'Chol', 'FBS', 'Rest_ecg', 'Thalach', 'Old_peak', 'Slope','Thall', 'Output']\n",
        "df = df[rearranged_col_names]\n",
        "df.head()\n",
        "df.shape"
      ],
      "metadata": {
        "colab": {
          "base_uri": "https://localhost:8080/"
        },
        "id": "F3acgPsrx1Wb",
        "outputId": "ad13a47f-7e5a-4bc9-b3b9-085ae28a9f48"
      },
      "execution_count": 88,
      "outputs": [
        {
          "output_type": "execute_result",
          "data": {
            "text/plain": [
              "(303, 14)"
            ]
          },
          "metadata": {},
          "execution_count": 88
        }
      ]
    },
    {
      "cell_type": "markdown",
      "source": [
        "# Kmeans"
      ],
      "metadata": {
        "id": "5Te-yhuMrpWM"
      }
    },
    {
      "cell_type": "markdown",
      "source": [
        "## Standardization of continous data"
      ],
      "metadata": {
        "id": "uzlwNhj_qiKt"
      }
    },
    {
      "cell_type": "code",
      "source": [
        "y = df['Output']\n",
        "features = df.iloc[:,0:-1]\n",
        "#standardization\n",
        "scaler = StandardScaler()\n",
        "scaled_features = scaler.fit_transform(features)"
      ],
      "metadata": {
        "id": "asedNn3pybDT"
      },
      "execution_count": 89,
      "outputs": []
    },
    {
      "cell_type": "markdown",
      "source": [
        "## K means model generation and prediction "
      ],
      "metadata": {
        "id": "GFjVyduVqqiA"
      }
    },
    {
      "cell_type": "code",
      "source": [
        "kmeans = KMeans(init=\"random\", n_clusters= 2, n_init=10, max_iter=300, random_state=42)\n",
        "y_predict = kmeans.fit_predict(scaled_features)"
      ],
      "metadata": {
        "id": "KTrcYEpby0oP"
      },
      "execution_count": 90,
      "outputs": []
    },
    {
      "cell_type": "code",
      "source": [
        "kmeans.inertia_\n",
        "kmeans.n_iter_"
      ],
      "metadata": {
        "colab": {
          "base_uri": "https://localhost:8080/"
        },
        "id": "8v3jg6qe0Q7d",
        "outputId": "a6b523f6-36fb-4d53-d684-d37e20289a71"
      },
      "execution_count": 91,
      "outputs": [
        {
          "output_type": "execute_result",
          "data": {
            "text/plain": [
              "10"
            ]
          },
          "metadata": {},
          "execution_count": 91
        }
      ]
    },
    {
      "cell_type": "code",
      "source": [
        "kmeans.labels_"
      ],
      "metadata": {
        "colab": {
          "base_uri": "https://localhost:8080/"
        },
        "id": "0FWoyfAp0Ufc",
        "outputId": "e61dd856-fa70-4a43-c9f8-bcbb1c4ad061"
      },
      "execution_count": 92,
      "outputs": [
        {
          "output_type": "execute_result",
          "data": {
            "text/plain": [
              "array([1, 1, 1, 1, 1, 1, 1, 1, 1, 1, 1, 1, 1, 1, 1, 1, 1, 0, 1, 1, 1, 1,\n",
              "       1, 0, 1, 1, 1, 1, 1, 1, 1, 1, 1, 1, 1, 1, 1, 1, 1, 1, 1, 1, 0, 1,\n",
              "       1, 1, 1, 1, 1, 1, 1, 1, 0, 1, 1, 1, 1, 1, 1, 1, 1, 1, 1, 1, 1, 1,\n",
              "       1, 1, 1, 1, 1, 1, 1, 1, 1, 1, 1, 1, 1, 1, 1, 1, 1, 1, 1, 1, 1, 1,\n",
              "       1, 1, 1, 1, 1, 1, 1, 0, 1, 1, 1, 1, 1, 0, 1, 1, 1, 1, 1, 1, 1, 1,\n",
              "       1, 1, 1, 1, 1, 1, 1, 1, 1, 1, 0, 1, 1, 1, 1, 1, 1, 1, 1, 0, 1, 1,\n",
              "       1, 1, 1, 1, 1, 1, 0, 0, 1, 1, 1, 1, 1, 1, 1, 1, 1, 1, 1, 0, 1, 1,\n",
              "       1, 1, 1, 1, 0, 1, 1, 1, 1, 1, 1, 0, 0, 0, 0, 0, 1, 1, 1, 1, 0, 0,\n",
              "       0, 1, 0, 0, 0, 0, 1, 1, 0, 1, 0, 0, 1, 1, 0, 0, 0, 0, 1, 0, 1, 0,\n",
              "       0, 1, 1, 0, 0, 0, 0, 1, 0, 0, 0, 1, 1, 0, 1, 0, 0, 0, 0, 0, 0, 0,\n",
              "       0, 0, 1, 0, 0, 0, 0, 0, 1, 0, 1, 0, 0, 0, 0, 1, 1, 0, 0, 1, 0, 0,\n",
              "       0, 0, 0, 1, 0, 0, 1, 0, 0, 0, 0, 0, 1, 0, 0, 0, 0, 1, 0, 1, 0, 0,\n",
              "       0, 0, 0, 1, 0, 0, 1, 1, 0, 1, 0, 1, 0, 1, 1, 0, 0, 1, 1, 1, 0, 0,\n",
              "       1, 1, 0, 0, 1, 0, 0, 1, 0, 0, 0, 0, 0, 1, 0, 0, 1], dtype=int32)"
            ]
          },
          "metadata": {},
          "execution_count": 92
        }
      ]
    },
    {
      "cell_type": "markdown",
      "source": [
        "## Performance metrics "
      ],
      "metadata": {
        "id": "bmHU1osvqxfX"
      }
    },
    {
      "cell_type": "code",
      "source": [
        "confusion_matrix(y, y_predict)\n"
      ],
      "metadata": {
        "colab": {
          "base_uri": "https://localhost:8080/"
        },
        "id": "wqh3T3d90f3N",
        "outputId": "2db50a05-65b7-45b0-907c-a1669732a291"
      },
      "execution_count": 93,
      "outputs": [
        {
          "output_type": "execute_result",
          "data": {
            "text/plain": [
              "array([[ 93,  45],\n",
              "       [ 12, 153]])"
            ]
          },
          "metadata": {},
          "execution_count": 93
        }
      ]
    },
    {
      "cell_type": "code",
      "source": [
        "accuracy_score(y,y_predict)\n"
      ],
      "metadata": {
        "colab": {
          "base_uri": "https://localhost:8080/"
        },
        "id": "7ypI686G37KE",
        "outputId": "bbddcada-ff12-489b-c502-5d14544b78f8"
      },
      "execution_count": 94,
      "outputs": [
        {
          "output_type": "execute_result",
          "data": {
            "text/plain": [
              "0.8118811881188119"
            ]
          },
          "metadata": {},
          "execution_count": 94
        }
      ]
    },
    {
      "cell_type": "code",
      "source": [
        "f1_score(y, y_predict, average=None)"
      ],
      "metadata": {
        "colab": {
          "base_uri": "https://localhost:8080/"
        },
        "id": "9DhHOJPyr0e_",
        "outputId": "e9aeb5fd-b809-4542-9dc6-4839c5308033"
      },
      "execution_count": 95,
      "outputs": [
        {
          "output_type": "execute_result",
          "data": {
            "text/plain": [
              "array([0.7654321 , 0.84297521])"
            ]
          },
          "metadata": {},
          "execution_count": 95
        }
      ]
    },
    {
      "cell_type": "code",
      "source": [
        "# percision, Recall, F1-score\n",
        "\n",
        "Precision = precision_score(y, y_predict)\n",
        "Recall = recall_score(y, y_predict)\n",
        "F1_score =f1_score(y, y_predict)\n",
        "\n",
        "print('Precision: %.3f' % Precision)\n",
        "print('Recall: %.3f' % Recall)\n",
        "print('F1_Score: %.3f' % F1_score )"
      ],
      "metadata": {
        "colab": {
          "base_uri": "https://localhost:8080/"
        },
        "id": "Hqq30IWazlnl",
        "outputId": "15b2e0c5-96cd-4f2b-a7c3-a4b44be66f71"
      },
      "execution_count": 96,
      "outputs": [
        {
          "output_type": "stream",
          "name": "stdout",
          "text": [
            "Precision: 0.773\n",
            "Recall: 0.927\n",
            "F1_Score: 0.843\n"
          ]
        }
      ]
    },
    {
      "cell_type": "code",
      "source": [
        "plt.bar(['Precision', 'Recall', 'F1-Score'],[Precision, Recall, F1_score], color =['#C2DED1', '#ECE5C7', '#CDC2AE'])\n",
        "plt.plot(['Precision', 'Recall', 'F1-Score'],[Precision, Recall, F1_score], color = '#354259')"
      ],
      "metadata": {
        "colab": {
          "base_uri": "https://localhost:8080/",
          "height": 282
        },
        "id": "vxXCGn6eznm6",
        "outputId": "eb760a60-55fe-42c7-c393-4b1e369adade"
      },
      "execution_count": 97,
      "outputs": [
        {
          "output_type": "execute_result",
          "data": {
            "text/plain": [
              "[<matplotlib.lines.Line2D at 0x7fe07c21a750>]"
            ]
          },
          "metadata": {},
          "execution_count": 97
        },
        {
          "output_type": "display_data",
          "data": {
            "text/plain": [
              "<Figure size 432x288 with 1 Axes>"
            ],
            "image/png": "[encoded data removed]"
          },
          "metadata": {
            "needs_background": "light"
          }
        }
      ]
    },
    {
      "cell_type": "markdown",
      "source": [
        "# Kmeans with outlier removal"
      ],
      "metadata": {
        "id": "srnh3q2sq8Tt"
      }
    },
    {
      "cell_type": "code",
      "source": [
        "# Cleaned data after removing outliers\n",
        "df_no_outliers = df.loc[df['Chol'] < 380]\n",
        "df_no_outliers = df_no_outliers.loc[df_no_outliers['Thalach'] > 80]\n",
        "df_no_outliers = df_no_outliers.loc[df_no_outliers['Trtbps'] < 170]\n",
        "df_no_outliers = df_no_outliers.loc[df_no_outliers['Old_peak'] < 3.5]\n",
        "arr = [df_no_outliers['Chol'].to_numpy(), df_no_outliers['Thalach'].to_numpy(), df_no_outliers['Trtbps'].to_numpy(), df_no_outliers['Old_peak'].to_numpy()]\n",
        "plt.boxplot(arr)\n",
        "plt.xticks([1, 2, 3, 4], ['Chol', 'Thalach', 'Trtbps', 'Old_peak'])\n",
        "plt.show()"
      ],
      "metadata": {
        "colab": {
          "base_uri": "https://localhost:8080/",
          "height": 266
        },
        "id": "0Xyz-JXaS4Ps",
        "outputId": "cbc143b3-f611-46ff-e807-dfc55bc4351e"
      },
      "execution_count": 98,
      "outputs": [
        {
          "output_type": "display_data",
          "data": {
            "text/plain": [
              "<Figure size 432x288 with 1 Axes>"
            ],
            "image/png": "[encoded data removed]"
          },
          "metadata": {
            "needs_background": "light"
          }
        }
      ]
    },
    {
      "cell_type": "code",
      "source": [
        "df_no_outliers.shape"
      ],
      "metadata": {
        "colab": {
          "base_uri": "https://localhost:8080/"
        },
        "id": "7osHpMBbS6St",
        "outputId": "a92c7ce5-ac66-42b7-ce68-ce025aa7e0a7"
      },
      "execution_count": 99,
      "outputs": [
        {
          "output_type": "execute_result",
          "data": {
            "text/plain": [
              "(273, 14)"
            ]
          },
          "metadata": {},
          "execution_count": 99
        }
      ]
    },
    {
      "cell_type": "code",
      "source": [
        "y = df_no_outliers['Output']\n",
        "features = df_no_outliers\n",
        "#standardization\n",
        "scaler = StandardScaler()\n",
        "scaled_features = scaler.fit_transform(features)"
      ],
      "metadata": {
        "id": "beZlRyq8V7vU"
      },
      "execution_count": 100,
      "outputs": []
    },
    {
      "cell_type": "code",
      "source": [
        "kmeans = KMeans(init=\"random\", n_clusters= 2, n_init=10, max_iter=300, random_state=42)\n",
        "# kmeans.decision_function(scaled_features)\n",
        "y_predict = kmeans.fit_predict(scaled_features)"
      ],
      "metadata": {
        "id": "fG8E9YTEV7vg"
      },
      "execution_count": 101,
      "outputs": []
    },
    {
      "cell_type": "code",
      "source": [
        "kmeans.inertia_\n",
        "kmeans.n_iter_"
      ],
      "metadata": {
        "colab": {
          "base_uri": "https://localhost:8080/"
        },
        "outputId": "38a4fa02-b614-4e9d-ba1c-2a717d659128",
        "id": "2lqiepTkV7vg"
      },
      "execution_count": 102,
      "outputs": [
        {
          "output_type": "execute_result",
          "data": {
            "text/plain": [
              "9"
            ]
          },
          "metadata": {},
          "execution_count": 102
        }
      ]
    },
    {
      "cell_type": "code",
      "source": [
        "kmeans.labels_"
      ],
      "metadata": {
        "colab": {
          "base_uri": "https://localhost:8080/"
        },
        "outputId": "72d6081a-12db-4839-dfce-17fcccef97a9",
        "id": "neAqzK6xV7vh"
      },
      "execution_count": 103,
      "outputs": [
        {
          "output_type": "execute_result",
          "data": {
            "text/plain": [
              "array([1, 1, 1, 1, 1, 1, 1, 1, 1, 1, 1, 1, 1, 1, 1, 1, 1, 1, 1, 1, 1, 1,\n",
              "       1, 1, 1, 1, 1, 1, 1, 1, 1, 1, 1, 1, 1, 1, 1, 1, 1, 0, 1, 1, 1, 1,\n",
              "       1, 1, 1, 1, 1, 0, 1, 1, 1, 1, 1, 1, 1, 1, 1, 1, 1, 1, 1, 1, 1, 1,\n",
              "       1, 1, 1, 1, 1, 1, 1, 1, 1, 1, 1, 1, 1, 1, 1, 1, 1, 1, 1, 1, 1, 1,\n",
              "       1, 1, 1, 0, 1, 1, 1, 1, 1, 1, 1, 1, 1, 1, 1, 1, 1, 1, 1, 1, 1, 1,\n",
              "       1, 1, 1, 0, 1, 1, 1, 1, 1, 1, 1, 1, 1, 1, 1, 1, 1, 1, 1, 1, 1, 0,\n",
              "       0, 1, 1, 1, 1, 1, 1, 1, 1, 1, 1, 1, 1, 1, 1, 1, 1, 1, 0, 1, 1, 1,\n",
              "       1, 1, 1, 0, 0, 0, 0, 0, 0, 0, 0, 0, 0, 0, 1, 0, 0, 0, 0, 1, 0, 0,\n",
              "       1, 0, 0, 0, 1, 0, 0, 0, 0, 0, 0, 0, 0, 1, 0, 0, 0, 0, 0, 0, 0, 0,\n",
              "       0, 0, 0, 0, 0, 0, 0, 0, 0, 0, 0, 0, 0, 0, 1, 0, 0, 0, 0, 0, 0, 0,\n",
              "       0, 0, 0, 0, 0, 0, 0, 0, 0, 0, 0, 0, 1, 0, 0, 0, 0, 1, 0, 0, 0, 0,\n",
              "       0, 0, 0, 0, 0, 0, 0, 0, 0, 1, 1, 0, 0, 0, 1, 0, 0, 1, 1, 0, 0, 0,\n",
              "       0, 0, 0, 0, 0, 0, 0, 0, 1], dtype=int32)"
            ]
          },
          "metadata": {},
          "execution_count": 103
        }
      ]
    },
    {
      "cell_type": "markdown",
      "source": [
        "## Performance metrics with outlier removal "
      ],
      "metadata": {
        "id": "RFmSEvesraB3"
      }
    },
    {
      "cell_type": "code",
      "source": [
        "confusion_matrix(y, y_predict)\n"
      ],
      "metadata": {
        "colab": {
          "base_uri": "https://localhost:8080/"
        },
        "outputId": "849b9449-a836-4e0c-ae7d-3add39943784",
        "id": "OzB4_FU_V7vh"
      },
      "execution_count": 104,
      "outputs": [
        {
          "output_type": "execute_result",
          "data": {
            "text/plain": [
              "array([[102,  14],\n",
              "       [  7, 150]])"
            ]
          },
          "metadata": {},
          "execution_count": 104
        }
      ]
    },
    {
      "cell_type": "code",
      "source": [
        "accuracy_score(y,y_predict)\n"
      ],
      "metadata": {
        "colab": {
          "base_uri": "https://localhost:8080/"
        },
        "outputId": "f9116dac-7917-41a6-be61-1b3463cc7474",
        "id": "4Q3d3mBcV7vi"
      },
      "execution_count": 105,
      "outputs": [
        {
          "output_type": "execute_result",
          "data": {
            "text/plain": [
              "0.9230769230769231"
            ]
          },
          "metadata": {},
          "execution_count": 105
        }
      ]
    },
    {
      "cell_type": "code",
      "source": [
        "# percision, Recall, F1-score\n",
        "\n",
        "Precision = precision_score(y, y_predict)\n",
        "Recall = recall_score(y, y_predict)\n",
        "F1_score =f1_score(y, y_predict)\n",
        "\n",
        "print('Precision: %.3f' % Precision)\n",
        "print('Recall: %.3f' % Recall)\n",
        "print('F1_Score: %.3f' % F1_score )"
      ],
      "metadata": {
        "colab": {
          "base_uri": "https://localhost:8080/"
        },
        "id": "kr_PIwBByVKp",
        "outputId": "aa52d7e7-431e-4933-b970-d5a7932c5de3"
      },
      "execution_count": 106,
      "outputs": [
        {
          "output_type": "stream",
          "name": "stdout",
          "text": [
            "Precision: 0.915\n",
            "Recall: 0.955\n",
            "F1_Score: 0.935\n"
          ]
        }
      ]
    },
    {
      "cell_type": "code",
      "source": [
        "plt.bar(['Precision', 'Recall', 'F1-Score'],[Precision, Recall, F1_score], color =['#C2DED1', '#ECE5C7', '#CDC2AE'])\n",
        "plt.plot(['Precision', 'Recall', 'F1-Score'],[Precision, Recall, F1_score], color = '#354259')"
      ],
      "metadata": {
        "colab": {
          "base_uri": "https://localhost:8080/",
          "height": 286
        },
        "id": "DxwuC5y_yfPO",
        "outputId": "e2088b24-e279-45d0-dd61-c711af5ca687"
      },
      "execution_count": 107,
      "outputs": [
        {
          "output_type": "execute_result",
          "data": {
            "text/plain": [
              "[<matplotlib.lines.Line2D at 0x7fe07c473c50>]"
            ]
          },
          "metadata": {},
          "execution_count": 107
        },
        {
          "output_type": "display_data",
          "data": {
            "text/plain": [
              "<Figure size 432x288 with 1 Axes>"
            ],
            "image/png": "[encoded data removed]"
          },
          "metadata": {
            "needs_background": "light"
          }
        }
      ]
    },
    {
      "cell_type": "code",
      "source": [
        ""
      ],
      "metadata": {
        "id": "lXae_02Dsm3O"
      },
      "execution_count": 64,
      "outputs": []
    }
  ]
}